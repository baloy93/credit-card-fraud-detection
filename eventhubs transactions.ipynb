{
 "cells": [
  {
   "cell_type": "code",
   "execution_count": 0,
   "metadata": {
    "application/vnd.databricks.v1+cell": {
     "cellMetadata": {
      "byteLimit": 2048000,
      "rowLimit": 10000
     },
     "inputWidgets": {},
     "nuid": "89077bd1-48e2-444a-a176-2b451bbfeaae",
     "showTitle": false,
     "title": ""
    }
   },
   "outputs": [
    {
     "output_type": "stream",
     "name": "stdout",
     "output_type": "stream",
     "text": [
      "/mnt/transactions has been unmounted.\n"
     ]
    },
    {
     "output_type": "execute_result",
     "data": {
      "text/plain": [
       "True"
      ]
     },
     "execution_count": 85,
     "metadata": {},
     "output_type": "execute_result"
    }
   ],
   "source": [
    "# Unmount the existing mount point\n",
    "dbutils.fs.unmount(\"/mnt/transactions\")\n",
    "\n",
    "# Mounting the storage again\n",
    "dbutils.fs.mount(\n",
    "  source=\"wasbs://transcationdata@creditcardfraud.blob.core.windows.net\",\n",
    "  mount_point=\"/mnt/transactions\",\n",
    "  extra_configs={\"fs.azure.account.key.creditcardfraud.blob.core.windows.net\": \"7R4IJ/A75KeXF1WhtUYp9GTlugkOHcg9BRLOkj72ee5kGZzIH0lLKPlx72bbX+y0WjAO7VZOjIFj+AStuwvZwQ==\"}\n",
    ")"
   ]
  },
  {
   "cell_type": "code",
   "execution_count": 0,
   "metadata": {
    "application/vnd.databricks.v1+cell": {
     "cellMetadata": {
      "byteLimit": 2048000,
      "rowLimit": 10000
     },
     "collapsed": true,
     "inputWidgets": {},
     "nuid": "3a608636-6097-44a4-be45-ed7c7a46cd15",
     "showTitle": false,
     "title": ""
    }
   },
   "outputs": [],
   "source": [
    "dbutils.fs.ls(\"/mnt/transactions/from stream_analytics\")"
   ]
  },
  {
   "cell_type": "code",
   "execution_count": 0,
   "metadata": {
    "application/vnd.databricks.v1+cell": {
     "cellMetadata": {
      "byteLimit": 2048000,
      "rowLimit": 10000
     },
     "inputWidgets": {},
     "nuid": "c80d64fa-4fd6-423d-a70f-33259326da95",
     "showTitle": false,
     "title": ""
    }
   },
   "outputs": [
    {
     "output_type": "stream",
     "name": "stdout",
     "output_type": "stream",
     "text": [
      "root\n |-- Amount: double (nullable = true)\n |-- EventEnqueuedUtcTime: string (nullable = true)\n |-- EventProcessedUtcTime: string (nullable = true)\n |-- Location: string (nullable = true)\n |-- PartitionId: long (nullable = true)\n |-- Timestamp: string (nullable = true)\n |-- TransactionId: long (nullable = true)\n\n"
     ]
    }
   ],
   "source": [
    "df = spark.read.json('/mnt/transactions/from stream_analytics')\n",
    "df.printSchema()"
   ]
  },
  {
   "cell_type": "code",
   "execution_count": 0,
   "metadata": {
    "application/vnd.databricks.v1+cell": {
     "cellMetadata": {
      "byteLimit": 2048000,
      "rowLimit": 10000
     },
     "inputWidgets": {},
     "nuid": "75080e61-7237-4027-a5be-bd08d4bb8da1",
     "showTitle": false,
     "title": ""
    }
   },
   "outputs": [
    {
     "output_type": "stream",
     "name": "stdout",
     "output_type": "stream",
     "text": [
      "+-------------+--------------------------+--------+-------------------+-----------------------+-----------+---------+\n|TransactionId|EventProcessedUtcTime     |Amount  |Timestamp          |EventEnqueuedUtcTime   |PartitionId|Location |\n+-------------+--------------------------+--------+-------------------+-----------------------+-----------+---------+\n|1756         |2024-10-06 15:18:47.759639|12695.79|2024-10-06 17:16:45|2024-10-06 15:16:46.85 |1          |LocationC|\n|7423         |2024-10-06 15:18:47.808502|13235.58|2024-10-06 17:16:52|2024-10-06 15:16:54.225|1          |LocationC|\n|8396         |2024-10-06 15:18:47.808589|7981.92 |2024-10-06 17:17:00|2024-10-06 15:17:01.413|1          |LocationC|\n|1234         |2024-10-06 15:18:47.808626|10005.24|2024-10-06 17:17:14|2024-10-06 15:17:15.863|1          |LocationB|\n|2231         |2024-10-06 15:18:47.80864 |1721.27 |2024-10-06 17:17:19|2024-10-06 15:17:20.614|1          |LocationC|\n|2113         |2024-10-06 15:18:47.808674|1135.0  |2024-10-06 17:17:23|2024-10-06 15:17:25.224|1          |LocationC|\n|2416         |2024-10-06 15:18:47.808707|3180.59 |2024-10-06 17:17:43|2024-10-06 15:17:45.022|1          |LocationA|\n|2658         |2024-10-06 15:18:47.808741|9327.05 |2024-10-06 17:17:56|2024-10-06 15:17:57.366|1          |LocationA|\n|7461         |2024-10-06 15:18:47.808774|13395.26|2024-10-06 17:18:00|2024-10-06 15:18:02.163|1          |LocationC|\n|7885         |2024-10-06 15:18:47.808808|6204.06 |2024-10-06 17:18:03|2024-10-06 15:18:04.554|1          |LocationC|\n+-------------+--------------------------+--------+-------------------+-----------------------+-----------+---------+\nonly showing top 10 rows\n\n"
     ]
    }
   ],
   "source": [
    "from pyspark.sql.types import StructType, StructField, StringType, FloatType, TimestampType, IntegerType\n",
    "\n",
    "schema = StructType([\n",
    "    StructField(\"TransactionId\", StringType(), True),\n",
    "    StructField(\"EventProcessedUtcTime\", TimestampType(), True),\n",
    "    StructField(\"Amount\", FloatType(), True),\n",
    "    StructField(\"Timestamp\", TimestampType(), True),\n",
    "    StructField(\"EventEnqueuedUtcTime\", TimestampType(), True),\n",
    "    StructField(\"PartitionId\", IntegerType(), True),\n",
    "    StructField(\"Location\", StringType(), True),\n",
    "])\n",
    "\n",
    "df = spark.read.json(\n",
    "    '/mnt/transactions/from stream_analytics',\n",
    "    schema=schema\n",
    ")\n",
    "\n",
    "df.show(10,truncate=False)\n"
   ]
  },
  {
   "cell_type": "code",
   "execution_count": 0,
   "metadata": {
    "application/vnd.databricks.v1+cell": {
     "cellMetadata": {
      "byteLimit": 2048000,
      "rowLimit": 10000
     },
     "inputWidgets": {},
     "nuid": "c580bced-a2c7-4694-8e19-5b7a7df97473",
     "showTitle": false,
     "title": ""
    }
   },
   "outputs": [
    {
     "output_type": "stream",
     "name": "stdout",
     "output_type": "stream",
     "text": [
      "+-------+------------------+-----------------+------------------+---------+\n|summary|     TransactionId|           Amount|       PartitionId| Location|\n+-------+------------------+-----------------+------------------+---------+\n|  count|              3114|             3114|              3114|     3114|\n|   mean| 5003.541425818882|7434.317845511758|2.5093127809890814|     NULL|\n| stddev|2851.6665541279403|4316.426855278001|1.7065688106482713|     NULL|\n|    min|                10|            10.55|                 0|LocationA|\n|    max|              9997|         14998.71|                 5|LocationC|\n+-------+------------------+-----------------+------------------+---------+\n\n"
     ]
    }
   ],
   "source": [
    "df.describe().show()\n",
    "#stats summary"
   ]
  },
  {
   "cell_type": "code",
   "execution_count": 0,
   "metadata": {
    "application/vnd.databricks.v1+cell": {
     "cellMetadata": {
      "byteLimit": 2048000,
      "rowLimit": 10000
     },
     "inputWidgets": {},
     "nuid": "4f2375b4-23b7-4684-bda8-0975badb4d8b",
     "showTitle": false,
     "title": ""
    }
   },
   "outputs": [
    {
     "output_type": "stream",
     "name": "stdout",
     "output_type": "stream",
     "text": [
      "+-------------+---------------------+------+---------+--------------------+-----------+--------+\n|TransactionId|EventProcessedUtcTime|Amount|Timestamp|EventEnqueuedUtcTime|PartitionId|Location|\n+-------------+---------------------+------+---------+--------------------+-----------+--------+\n|            0|                    0|     0|        0|                   0|          0|       0|\n+-------------+---------------------+------+---------+--------------------+-----------+--------+\n\n"
     ]
    }
   ],
   "source": [
    "from pyspark.sql.functions import col, count, when\n",
    "#counting nulls and there are null values\n",
    "df.select([\n",
    "    count(when(col(c).isNull(), c)).alias(c) \n",
    "    for c in df.columns\n",
    "]).show()"
   ]
  },
  {
   "cell_type": "code",
   "execution_count": 0,
   "metadata": {
    "application/vnd.databricks.v1+cell": {
     "cellMetadata": {
      "byteLimit": 2048000,
      "rowLimit": 10000
     },
     "inputWidgets": {},
     "nuid": "61e4bdf9-c25f-4b1c-b22c-2d59b702cea0",
     "showTitle": false,
     "title": ""
    }
   },
   "outputs": [],
   "source": [
    "\n",
    "# Remove duplicates\n",
    "df_cleaned = df.dropDuplicates()\n"
   ]
  },
  {
   "cell_type": "code",
   "execution_count": 0,
   "metadata": {
    "application/vnd.databricks.v1+cell": {
     "cellMetadata": {
      "byteLimit": 2048000,
      "rowLimit": 10000
     },
     "inputWidgets": {},
     "nuid": "6ae32271-c4ac-443d-b61a-e95622fbf200",
     "showTitle": false,
     "title": ""
    }
   },
   "outputs": [],
   "source": [
    "from pyspark.sql.functions import unix_timestamp, hour, col, when\n",
    "\n",
    "# Create a new column for the hour of the transaction\n",
    "df_features = df_cleaned.withColumn(\"TransactionHour\", hour(col(\"Timestamp\")))\n",
    "\n",
    "# Flag high-value transactions\n",
    "df_features = df_features.withColumn(\"HighValueFlag\", when(col(\"Amount\") > 1000, 1).otherwise(0))\n",
    "\n",
    "display(df_features)"
   ]
  },
  {
   "cell_type": "code",
   "execution_count": 0,
   "metadata": {
    "application/vnd.databricks.v1+cell": {
     "cellMetadata": {
      "byteLimit": 2048000,
      "rowLimit": 10000
     },
     "inputWidgets": {},
     "nuid": "e75a117b-2a33-4f48-b2e0-cac16af42ed3",
     "showTitle": false,
     "title": ""
    }
   },
   "outputs": [
    {
     "output_type": "display_data",
     "data": {
      "text/html": [
       "<style scoped>\n",
       "  .table-result-container {\n",
       "    max-height: 300px;\n",
       "    overflow: auto;\n",
       "  }\n",
       "  table, th, td {\n",
       "    border: 1px solid black;\n",
       "    border-collapse: collapse;\n",
       "  }\n",
       "  th, td {\n",
       "    padding: 5px;\n",
       "  }\n",
       "  th {\n",
       "    text-align: left;\n",
       "  }\n",
       "</style><div class='table-result-container'><table class='table-result'><thead style='background-color: white'><tr><th>Location</th><th>TotalAmount</th><th>AverageAmount</th><th>TransactionCount</th><th>HighValueCount</th></tr></thead><tbody><tr><td>LocationB</td><td>7672438.885081291</td><td>7507.278752525725</td><td>1022</td><td>949</td></tr><tr><td>LocationC</td><td>7784807.618185043</td><td>7385.965482148998</td><td>1054</td><td>978</td></tr><tr><td>LocationA</td><td>7693219.26765728</td><td>7411.579255931869</td><td>1038</td><td>974</td></tr></tbody></table></div>"
      ]
     },
     "metadata": {
      "application/vnd.databricks.v1+output": {
       "addedWidgets": {},
       "aggData": [],
       "aggError": "",
       "aggOverflow": false,
       "aggSchema": [],
       "aggSeriesLimitReached": false,
       "aggType": "",
       "arguments": {},
       "columnCustomDisplayInfos": {},
       "data": [
        [
         "LocationB",
         7672438.885081291,
         7507.278752525725,
         1022,
         949
        ],
        [
         "LocationC",
         7784807.618185043,
         7385.965482148998,
         1054,
         978
        ],
        [
         "LocationA",
         7693219.26765728,
         7411.579255931869,
         1038,
         974
        ]
       ],
       "datasetInfos": [],
       "dbfsResultPath": null,
       "isJsonSchema": true,
       "metadata": {},
       "overflow": false,
       "plotOptions": {
        "customPlotOptions": {},
        "displayType": "table",
        "pivotAggregation": null,
        "pivotColumns": null,
        "xColumns": null,
        "yColumns": null
       },
       "removedWidgets": [],
       "schema": [
        {
         "metadata": "{}",
         "name": "Location",
         "type": "\"string\""
        },
        {
         "metadata": "{}",
         "name": "TotalAmount",
         "type": "\"double\""
        },
        {
         "metadata": "{}",
         "name": "AverageAmount",
         "type": "\"double\""
        },
        {
         "metadata": "{}",
         "name": "TransactionCount",
         "type": "\"long\""
        },
        {
         "metadata": "{}",
         "name": "HighValueCount",
         "type": "\"long\""
        }
       ],
       "type": "table"
      }
     },
     "output_type": "display_data"
    }
   ],
   "source": [
    "from pyspark.sql.functions import sum, avg, count\n",
    "\n",
    "# Cast columns to appropriate numeric types\n",
    "df_features = df_features.withColumn(\"Amount\", df_features[\"Amount\"].cast(\"double\"))\n",
    "df_features = df_features.withColumn(\"HighValueFlag\", df_features[\"HighValueFlag\"].cast(\"int\"))\n",
    "\n",
    "# Group by user or location to analyze total amounts\n",
    "df_aggregated = df_features.groupBy(\"Location\").agg(\n",
    "    sum(\"Amount\").alias(\"TotalAmount\"),\n",
    "    avg(\"Amount\").alias(\"AverageAmount\"),\n",
    "    count(\"TransactionId\").alias(\"TransactionCount\"),\n",
    "    sum(\"HighValueFlag\").alias(\"HighValueCount\")\n",
    ")\n",
    "\n",
    "display(df_aggregated)"
   ]
  },
  {
   "cell_type": "code",
   "execution_count": 0,
   "metadata": {
    "application/vnd.databricks.v1+cell": {
     "cellMetadata": {
      "byteLimit": 2048000,
      "rowLimit": 10000
     },
     "inputWidgets": {},
     "nuid": "20e03e0d-6540-4cc7-be34-8ee3a3e792ba",
     "showTitle": false,
     "title": ""
    }
   },
   "outputs": [
    {
     "output_type": "display_data",
     "data": {
      "text/html": [
       "<style scoped>\n",
       "  .table-result-container {\n",
       "    max-height: 300px;\n",
       "    overflow: auto;\n",
       "  }\n",
       "  table, th, td {\n",
       "    border: 1px solid black;\n",
       "    border-collapse: collapse;\n",
       "  }\n",
       "  th, td {\n",
       "    padding: 5px;\n",
       "  }\n",
       "  th {\n",
       "    text-align: left;\n",
       "  }\n",
       "</style><div class='table-result-container'><table class='table-result'><thead style='background-color: white'><tr><th>TransactionId</th><th>EventProcessedUtcTime</th><th>Amount</th><th>Timestamp</th><th>EventEnqueuedUtcTime</th><th>PartitionId</th><th>Location</th><th>TransactionHour</th><th>HighValueFlag</th></tr></thead><tbody><tr><td>645</td><td>2024-10-06T14:47:03.556466Z</td><td>14944.7802734375</td><td>2024-10-06T16:45:33Z</td><td>2024-10-06T14:45:35.223Z</td><td>0</td><td>LocationB</td><td>16</td><td>1</td></tr><tr><td>559</td><td>2024-10-06T14:53:20.375064Z</td><td>14926.259765625</td><td>2024-10-06T16:52:30Z</td><td>2024-10-06T14:52:32.113Z</td><td>5</td><td>LocationA</td><td>16</td><td>1</td></tr><tr><td>8474</td><td>2024-10-06T15:25:06.103639Z</td><td>14897.9697265625</td><td>2024-10-06T17:24:15Z</td><td>2024-10-06T15:24:17.234Z</td><td>0</td><td>LocationC</td><td>17</td><td>1</td></tr><tr><td>5405</td><td>2024-10-06T14:51:15.72412Z</td><td>14892.599609375</td><td>2024-10-06T16:49:23Z</td><td>2024-10-06T14:49:25.088Z</td><td>3</td><td>LocationA</td><td>16</td><td>1</td></tr><tr><td>9620</td><td>2024-10-06T14:57:33.925407Z</td><td>14909.849609375</td><td>2024-10-06T16:55:46Z</td><td>2024-10-06T14:55:47.649Z</td><td>1</td><td>LocationB</td><td>16</td><td>1</td></tr><tr><td>6138</td><td>2024-10-06T14:49:09.225549Z</td><td>14875.330078125</td><td>2024-10-06T16:48:51Z</td><td>2024-10-06T14:48:53.293Z</td><td>4</td><td>LocationA</td><td>16</td><td>1</td></tr><tr><td>741</td><td>2024-10-01T17:37:17.497008Z</td><td>14998.7099609375</td><td>2024-10-01T19:35:08Z</td><td>2024-10-01T17:35:10.852Z</td><td>0</td><td>LocationB</td><td>19</td><td>1</td></tr><tr><td>1517</td><td>2024-10-06T15:33:17.908532Z</td><td>14993.01953125</td><td>2024-10-06T17:31:19Z</td><td>2024-10-06T15:31:21.021Z</td><td>4</td><td>LocationA</td><td>17</td><td>1</td></tr><tr><td>5758</td><td>2024-10-14T20:18:02.117719Z</td><td>14984.83984375</td><td>2024-10-14T22:17:22Z</td><td>2024-10-14T20:17:28.479Z</td><td>4</td><td>LocationC</td><td>22</td><td>1</td></tr><tr><td>3311</td><td>2024-10-14T20:23:00.50507Z</td><td>14948.2197265625</td><td>2024-10-14T22:22:35Z</td><td>2024-10-14T20:22:40.965Z</td><td>2</td><td>LocationA</td><td>22</td><td>1</td></tr><tr><td>612</td><td>2024-10-06T14:49:09.223123Z</td><td>14896.740234375</td><td>2024-10-06T16:48:19Z</td><td>2024-10-06T14:48:21.002Z</td><td>5</td><td>LocationC</td><td>16</td><td>1</td></tr><tr><td>9984</td><td>2024-10-06T15:14:37.587465Z</td><td>14969.419921875</td><td>2024-10-06T17:13:51Z</td><td>2024-10-06T15:13:53.147Z</td><td>1</td><td>LocationC</td><td>17</td><td>1</td></tr><tr><td>8021</td><td>2024-10-01T17:41:38.199274Z</td><td>14940.8701171875</td><td>2024-10-01T19:39:34Z</td><td>2024-10-01T17:39:38.564Z</td><td>0</td><td>LocationA</td><td>19</td><td>1</td></tr><tr><td>4871</td><td>2024-10-06T15:05:59.848267Z</td><td>14906.2802734375</td><td>2024-10-06T17:05:57Z</td><td>2024-10-06T15:05:59.064Z</td><td>2</td><td>LocationA</td><td>17</td><td>1</td></tr><tr><td>9750</td><td>2024-10-14T16:49:33.188023Z</td><td>14924.5</td><td>2024-10-14T18:48:40Z</td><td>2024-10-14T16:48:48.218Z</td><td>3</td><td>LocationB</td><td>18</td><td>1</td></tr><tr><td>8678</td><td>2024-10-14T20:12:03.879751Z</td><td>14890.5302734375</td><td>2024-10-14T22:11:43Z</td><td>2024-10-14T20:11:50.916Z</td><td>0</td><td>LocationB</td><td>22</td><td>1</td></tr><tr><td>724</td><td>2024-10-14T19:26:04.197632Z</td><td>14886.8896484375</td><td>2024-10-14T21:25:15Z</td><td>2024-10-14T19:25:23.099Z</td><td>3</td><td>LocationA</td><td>21</td><td>1</td></tr><tr><td>4190</td><td>2024-10-14T19:31:14.021273Z</td><td>14893.669921875</td><td>2024-10-14T21:30:44Z</td><td>2024-10-14T19:30:53.143Z</td><td>1</td><td>LocationC</td><td>21</td><td>1</td></tr><tr><td>7039</td><td>2024-10-14T19:32:16.703874Z</td><td>14929.3798828125</td><td>2024-10-14T21:31:23Z</td><td>2024-10-14T19:31:32.001Z</td><td>3</td><td>LocationC</td><td>21</td><td>1</td></tr></tbody></table></div>"
      ]
     },
     "metadata": {
      "application/vnd.databricks.v1+output": {
       "addedWidgets": {},
       "aggData": [],
       "aggError": "",
       "aggOverflow": false,
       "aggSchema": [],
       "aggSeriesLimitReached": false,
       "aggType": "",
       "arguments": {},
       "columnCustomDisplayInfos": {},
       "data": [
        [
         "645",
         "2024-10-06T14:47:03.556466Z",
         14944.7802734375,
         "2024-10-06T16:45:33Z",
         "2024-10-06T14:45:35.223Z",
         0,
         "LocationB",
         16,
         1
        ],
        [
         "559",
         "2024-10-06T14:53:20.375064Z",
         14926.259765625,
         "2024-10-06T16:52:30Z",
         "2024-10-06T14:52:32.113Z",
         5,
         "LocationA",
         16,
         1
        ],
        [
         "8474",
         "2024-10-06T15:25:06.103639Z",
         14897.9697265625,
         "2024-10-06T17:24:15Z",
         "2024-10-06T15:24:17.234Z",
         0,
         "LocationC",
         17,
         1
        ],
        [
         "5405",
         "2024-10-06T14:51:15.72412Z",
         14892.599609375,
         "2024-10-06T16:49:23Z",
         "2024-10-06T14:49:25.088Z",
         3,
         "LocationA",
         16,
         1
        ],
        [
         "9620",
         "2024-10-06T14:57:33.925407Z",
         14909.849609375,
         "2024-10-06T16:55:46Z",
         "2024-10-06T14:55:47.649Z",
         1,
         "LocationB",
         16,
         1
        ],
        [
         "6138",
         "2024-10-06T14:49:09.225549Z",
         14875.330078125,
         "2024-10-06T16:48:51Z",
         "2024-10-06T14:48:53.293Z",
         4,
         "LocationA",
         16,
         1
        ],
        [
         "741",
         "2024-10-01T17:37:17.497008Z",
         14998.7099609375,
         "2024-10-01T19:35:08Z",
         "2024-10-01T17:35:10.852Z",
         0,
         "LocationB",
         19,
         1
        ],
        [
         "1517",
         "2024-10-06T15:33:17.908532Z",
         14993.01953125,
         "2024-10-06T17:31:19Z",
         "2024-10-06T15:31:21.021Z",
         4,
         "LocationA",
         17,
         1
        ],
        [
         "5758",
         "2024-10-14T20:18:02.117719Z",
         14984.83984375,
         "2024-10-14T22:17:22Z",
         "2024-10-14T20:17:28.479Z",
         4,
         "LocationC",
         22,
         1
        ],
        [
         "3311",
         "2024-10-14T20:23:00.50507Z",
         14948.2197265625,
         "2024-10-14T22:22:35Z",
         "2024-10-14T20:22:40.965Z",
         2,
         "LocationA",
         22,
         1
        ],
        [
         "612",
         "2024-10-06T14:49:09.223123Z",
         14896.740234375,
         "2024-10-06T16:48:19Z",
         "2024-10-06T14:48:21.002Z",
         5,
         "LocationC",
         16,
         1
        ],
        [
         "9984",
         "2024-10-06T15:14:37.587465Z",
         14969.419921875,
         "2024-10-06T17:13:51Z",
         "2024-10-06T15:13:53.147Z",
         1,
         "LocationC",
         17,
         1
        ],
        [
         "8021",
         "2024-10-01T17:41:38.199274Z",
         14940.8701171875,
         "2024-10-01T19:39:34Z",
         "2024-10-01T17:39:38.564Z",
         0,
         "LocationA",
         19,
         1
        ],
        [
         "4871",
         "2024-10-06T15:05:59.848267Z",
         14906.2802734375,
         "2024-10-06T17:05:57Z",
         "2024-10-06T15:05:59.064Z",
         2,
         "LocationA",
         17,
         1
        ],
        [
         "9750",
         "2024-10-14T16:49:33.188023Z",
         14924.5,
         "2024-10-14T18:48:40Z",
         "2024-10-14T16:48:48.218Z",
         3,
         "LocationB",
         18,
         1
        ],
        [
         "8678",
         "2024-10-14T20:12:03.879751Z",
         14890.5302734375,
         "2024-10-14T22:11:43Z",
         "2024-10-14T20:11:50.916Z",
         0,
         "LocationB",
         22,
         1
        ],
        [
         "724",
         "2024-10-14T19:26:04.197632Z",
         14886.8896484375,
         "2024-10-14T21:25:15Z",
         "2024-10-14T19:25:23.099Z",
         3,
         "LocationA",
         21,
         1
        ],
        [
         "4190",
         "2024-10-14T19:31:14.021273Z",
         14893.669921875,
         "2024-10-14T21:30:44Z",
         "2024-10-14T19:30:53.143Z",
         1,
         "LocationC",
         21,
         1
        ],
        [
         "7039",
         "2024-10-14T19:32:16.703874Z",
         14929.3798828125,
         "2024-10-14T21:31:23Z",
         "2024-10-14T19:31:32.001Z",
         3,
         "LocationC",
         21,
         1
        ]
       ],
       "datasetInfos": [],
       "dbfsResultPath": null,
       "isJsonSchema": true,
       "metadata": {},
       "overflow": false,
       "plotOptions": {
        "customPlotOptions": {},
        "displayType": "table",
        "pivotAggregation": null,
        "pivotColumns": null,
        "xColumns": null,
        "yColumns": null
       },
       "removedWidgets": [],
       "schema": [
        {
         "metadata": "{}",
         "name": "TransactionId",
         "type": "\"string\""
        },
        {
         "metadata": "{}",
         "name": "EventProcessedUtcTime",
         "type": "\"timestamp\""
        },
        {
         "metadata": "{}",
         "name": "Amount",
         "type": "\"double\""
        },
        {
         "metadata": "{}",
         "name": "Timestamp",
         "type": "\"timestamp\""
        },
        {
         "metadata": "{}",
         "name": "EventEnqueuedUtcTime",
         "type": "\"timestamp\""
        },
        {
         "metadata": "{}",
         "name": "PartitionId",
         "type": "\"integer\""
        },
        {
         "metadata": "{}",
         "name": "Location",
         "type": "\"string\""
        },
        {
         "metadata": "{}",
         "name": "TransactionHour",
         "type": "\"integer\""
        },
        {
         "metadata": "{}",
         "name": "HighValueFlag",
         "type": "\"integer\""
        }
       ],
       "type": "table"
      }
     },
     "output_type": "display_data"
    }
   ],
   "source": [
    "# Identifyng transactions that are significantly higher than average\n",
    "avg_amount = df_features.agg(avg(\"Amount\")).first()[0]\n",
    "threshold = avg_amount * 2  # Example threshold\n",
    "\n",
    "df_anomalies = df_features.filter(col(\"Amount\") > threshold)\n",
    "display(df_anomalies)\n"
   ]
  },
  {
   "cell_type": "code",
   "execution_count": 0,
   "metadata": {
    "application/vnd.databricks.v1+cell": {
     "cellMetadata": {
      "byteLimit": 2048000,
      "rowLimit": 10000
     },
     "inputWidgets": {},
     "nuid": "b7ddac35-b5eb-49e5-98f2-278d38b8a26c",
     "showTitle": false,
     "title": ""
    }
   },
   "outputs": [
    {
     "output_type": "display_data",
     "data": {
      "text/html": [
       "<style scoped>\n",
       "  .table-result-container {\n",
       "    max-height: 300px;\n",
       "    overflow: auto;\n",
       "  }\n",
       "  table, th, td {\n",
       "    border: 1px solid black;\n",
       "    border-collapse: collapse;\n",
       "  }\n",
       "  th, td {\n",
       "    padding: 5px;\n",
       "  }\n",
       "  th {\n",
       "    text-align: left;\n",
       "  }\n",
       "</style><div class='table-result-container'><table class='table-result'><thead style='background-color: white'><tr><th>Location</th><th>TotalAmount</th><th>AverageAmount</th><th>TransactionCount</th><th>HighValueCount</th></tr></thead><tbody><tr><td>LocationB</td><td>7672438.885081291</td><td>7507.278752525725</td><td>1022</td><td>949</td></tr><tr><td>LocationC</td><td>7784807.618185043</td><td>7385.965482148998</td><td>1054</td><td>978</td></tr><tr><td>LocationA</td><td>7693219.26765728</td><td>7411.579255931869</td><td>1038</td><td>974</td></tr></tbody></table></div>"
      ]
     },
     "metadata": {
      "application/vnd.databricks.v1+output": {
       "addedWidgets": {},
       "aggData": [],
       "aggError": "",
       "aggOverflow": false,
       "aggSchema": [],
       "aggSeriesLimitReached": false,
       "aggType": "",
       "arguments": {},
       "columnCustomDisplayInfos": {},
       "data": [
        [
         "LocationB",
         7672438.885081291,
         7507.278752525725,
         1022,
         949
        ],
        [
         "LocationC",
         7784807.618185043,
         7385.965482148998,
         1054,
         978
        ],
        [
         "LocationA",
         7693219.26765728,
         7411.579255931869,
         1038,
         974
        ]
       ],
       "datasetInfos": [],
       "dbfsResultPath": null,
       "isJsonSchema": true,
       "metadata": {},
       "overflow": false,
       "plotOptions": {
        "customPlotOptions": {},
        "displayType": "table",
        "pivotAggregation": null,
        "pivotColumns": null,
        "xColumns": null,
        "yColumns": null
       },
       "removedWidgets": [],
       "schema": [
        {
         "metadata": "{}",
         "name": "Location",
         "type": "\"string\""
        },
        {
         "metadata": "{}",
         "name": "TotalAmount",
         "type": "\"double\""
        },
        {
         "metadata": "{}",
         "name": "AverageAmount",
         "type": "\"double\""
        },
        {
         "metadata": "{}",
         "name": "TransactionCount",
         "type": "\"long\""
        },
        {
         "metadata": "{}",
         "name": "HighValueCount",
         "type": "\"long\""
        }
       ],
       "type": "table"
      }
     },
     "output_type": "display_data"
    },
    {
     "output_type": "display_data",
     "data": {
      "text/plain": [
       "Databricks visualization. Run in Databricks to view."
      ]
     },
     "metadata": {
      "application/vnd.databricks.v1.subcommand+json": {
       "baseErrorDetails": null,
       "bindings": {},
       "collapsed": false,
       "command": "%python\n__backend_agg_display_orig = display\n__backend_agg_dfs = []\ndef __backend_agg_display_new(df):\n    __backend_agg_df_modules = [\"pandas.core.frame\", \"databricks.koalas.frame\", \"pyspark.sql.dataframe\", \"pyspark.pandas.frame\", \"pyspark.sql.connect.dataframe\"]\n    if (type(df).__module__ in __backend_agg_df_modules and type(df).__name__ == 'DataFrame') or isinstance(df, list):\n        __backend_agg_dfs.append(df)\n\ndisplay = __backend_agg_display_new\n\ndef __backend_agg_user_code_fn():\n    import base64\n    exec(base64.standard_b64decode(\"ZGlzcGxheShkZl9hZ2dyZWdhdGVkKSAgIyB2aXN1YWxpemF0aW9uCg==\").decode())\n\ntry:\n    # run user code\n    __backend_agg_user_code_fn()\n\n    #reset display function\n    display = __backend_agg_display_orig\n\n    if len(__backend_agg_dfs) > 0:\n        # create a temp view\n        if type(__backend_agg_dfs[0]).__module__ == \"databricks.koalas.frame\":\n            # koalas dataframe\n            __backend_agg_dfs[0].to_spark().createOrReplaceTempView(\"DatabricksView57ca507\")\n        elif type(__backend_agg_dfs[0]).__module__ == \"pandas.core.frame\" or isinstance(__backend_agg_dfs[0], list):\n            # pandas dataframe\n            spark.createDataFrame(__backend_agg_dfs[0]).createOrReplaceTempView(\"DatabricksView57ca507\")\n        else:\n            __backend_agg_dfs[0].createOrReplaceTempView(\"DatabricksView57ca507\")\n        #run backend agg\n        display(spark.sql(\"\"\"WITH q AS (select * from DatabricksView57ca507) SELECT `Location`,`AverageAmount`,`TotalAmount`,`HighValueCount`,`TransactionCount` FROM q GROUP BY `AverageAmount`,`HighValueCount`,`Location`,`TotalAmount`,`TransactionCount`\"\"\"))\n    else:\n        displayHTML(\"dataframe no longer exists. If you're using dataframe.display(), use display(dataframe) instead.\")\n\n\nfinally:\n    spark.sql(\"drop view if exists DatabricksView57ca507\")\n    display = __backend_agg_display_orig\n    del __backend_agg_display_new\n    del __backend_agg_display_orig\n    del __backend_agg_dfs\n    del __backend_agg_user_code_fn\n\n",
       "commandTitle": "Visualization 1",
       "commandType": "auto",
       "commandVersion": 0,
       "commentThread": [],
       "commentsVisible": false,
       "contentSha256Hex": null,
       "customPlotOptions": {
        "redashChart": [
         {
          "key": "type",
          "value": "CHART"
         },
         {
          "key": "options",
          "value": {
           "alignYAxesAtZero": true,
           "coefficient": 1,
           "columnConfigurationMap": {
            "x": {
             "column": "Location",
             "id": "column_f2d40da919"
            },
            "y": [
             {
              "column": "AverageAmount",
              "id": "column_f2d40da921"
             },
             {
              "column": "TotalAmount",
              "id": "column_f2d40da924"
             },
             {
              "column": "HighValueCount",
              "id": "column_f2d40da927"
             },
             {
              "column": "TransactionCount",
              "id": "column_f2d40da930"
             }
            ]
           },
           "dateTimeFormat": "DD/MM/YYYY HH:mm",
           "direction": {
            "type": "counterclockwise"
           },
           "error_y": {
            "type": "data",
            "visible": true
           },
           "globalSeriesType": "heatmap",
           "isAggregationOn": true,
           "legend": {
            "traceorder": "normal"
           },
           "missingValuesAsZero": true,
           "numberFormat": "0,0.[00000]",
           "percentFormat": "0[.]00%",
           "series": {
            "error_y": {
             "type": "data",
             "visible": true
            },
            "stacking": null
           },
           "seriesOptions": {
            "column_f2d40da921": {
             "type": "heatmap",
             "yAxis": 0
            },
            "column_f2d40da924": {
             "type": "heatmap",
             "yAxis": 0
            },
            "column_f2d40da927": {
             "type": "heatmap",
             "yAxis": 0
            },
            "column_f2d40da930": {
             "type": "heatmap",
             "yAxis": 0
            }
           },
           "showDataLabels": false,
           "sizemode": "diameter",
           "sortX": true,
           "sortY": true,
           "swappedAxes": false,
           "textFormat": "",
           "useAggregationsUi": true,
           "valuesOptions": {},
           "version": 2,
           "xAxis": {
            "labels": {
             "enabled": true
            },
            "type": "-"
           },
           "yAxis": [
            {
             "type": "-"
            },
            {
             "opposite": true,
             "type": "-"
            }
           ]
          }
         }
        ]
       },
       "datasetPreviewNameToCmdIdMap": {},
       "diffDeletes": [],
       "diffInserts": [],
       "displayType": "redashChart",
       "error": null,
       "errorDetails": null,
       "errorSummary": null,
       "errorTraceType": null,
       "finishTime": 0,
       "globalVars": {},
       "guid": "",
       "height": "auto",
       "hideCommandCode": false,
       "hideCommandResult": false,
       "iPythonMetadata": null,
       "inputWidgets": {},
       "isLockedInExamMode": false,
       "latestUser": "a user",
       "latestUserId": null,
       "listResultMetadata": null,
       "metadata": {
        "byteLimit": 2048000,
        "rowLimit": 10000
       },
       "nuid": "509bb98e-6f3a-4b00-90ca-42f349e15fe5",
       "origId": 0,
       "parentHierarchy": [],
       "pivotAggregation": null,
       "pivotColumns": null,
       "position": 11.5,
       "resultDbfsErrorMessage": null,
       "resultDbfsStatus": "INLINED_IN_TREE",
       "results": null,
       "showCommandTitle": false,
       "startTime": 0,
       "state": "finished",
       "streamStates": {},
       "subcommandOptions": {
        "queryPlan": {
         "groups": [
          {
           "column": "Location",
           "type": "column"
          },
          {
           "column": "AverageAmount",
           "type": "column"
          },
          {
           "column": "TotalAmount",
           "type": "column"
          },
          {
           "column": "HighValueCount",
           "type": "column"
          },
          {
           "column": "TransactionCount",
           "type": "column"
          }
         ],
         "selects": [
          {
           "column": "Location",
           "type": "column"
          },
          {
           "column": "AverageAmount",
           "type": "column"
          },
          {
           "column": "TotalAmount",
           "type": "column"
          },
          {
           "column": "HighValueCount",
           "type": "column"
          },
          {
           "column": "TransactionCount",
           "type": "column"
          }
         ]
        }
       },
       "submitTime": 0,
       "subtype": "tableResultSubCmd.visualization",
       "tableResultIndex": 0,
       "tableResultSettingsMap": null,
       "useConsistentColors": false,
       "version": "CommandV1",
       "width": "auto",
       "workflows": [],
       "xColumns": null,
       "yColumns": null
      }
     },
     "output_type": "display_data"
    }
   ],
   "source": [
    "display(df_aggregated)  # visualization\n"
   ]
  },
  {
   "cell_type": "code",
   "execution_count": 0,
   "metadata": {
    "application/vnd.databricks.v1+cell": {
     "cellMetadata": {
      "byteLimit": 2048000,
      "rowLimit": 10000
     },
     "inputWidgets": {},
     "nuid": "5ca2e90b-152a-4f42-a0e2-111b2b83e89a",
     "showTitle": false,
     "title": ""
    }
   },
   "outputs": [],
   "source": [
    "# Saved transformed DataFrame for further analysis\n",
    "df_features.write.mode(\"overwrite\").csv(\"/mnt/transactions/transformed_data\")\n"
   ]
  },
  {
   "cell_type": "code",
   "execution_count": 0,
   "metadata": {
    "application/vnd.databricks.v1+cell": {
     "cellMetadata": {
      "byteLimit": 2048000,
      "rowLimit": 10000
     },
     "inputWidgets": {},
     "nuid": "7802d78f-30ee-4a4d-b08f-dfb88555c780",
     "showTitle": false,
     "title": ""
    }
   },
   "outputs": [],
   "source": [
    "from pyspark.ml.classification import LogisticRegression\n",
    "from pyspark.ml.feature import VectorAssembler\n",
    "\n",
    "# Prepare data for modeling\n",
    "assembler = VectorAssembler(inputCols=[\"Amount\", \"TransactionHour\", \"HighValueFlag\"], outputCol=\"features\")\n",
    "df_model = assembler.transform(df_features)\n",
    "\n",
    "# Split into training and testing sets\n",
    "train_data, test_data = df_model.randomSplit([0.8, 0.2], seed=42)\n",
    "\n",
    "# Train a logistic regression model\n",
    "lr = LogisticRegression(featuresCol=\"features\", labelCol=\"HighValueFlag\")\n",
    "model = lr.fit(train_data)\n",
    "\n",
    "# Make predictions\n",
    "predictions = model.transform(test_data)\n"
   ]
  },
  {
   "cell_type": "code",
   "execution_count": 0,
   "metadata": {
    "application/vnd.databricks.v1+cell": {
     "cellMetadata": {
      "byteLimit": 2048000,
      "rowLimit": 10000
     },
     "inputWidgets": {},
     "nuid": "5694b991-be96-40b1-9c4f-ddcfc4949004",
     "showTitle": false,
     "title": ""
    }
   },
   "outputs": [
    {
     "output_type": "stream",
     "name": "stdout",
     "output_type": "stream",
     "text": [
      "Model Accuracy: 1.0\n"
     ]
    }
   ],
   "source": [
    "from pyspark.ml.evaluation import BinaryClassificationEvaluator\n",
    "\n",
    "# Evaluate the model\n",
    "evaluator = BinaryClassificationEvaluator(labelCol=\"HighValueFlag\")\n",
    "accuracy = evaluator.evaluate(predictions)\n",
    "print(f\"Model Accuracy: {accuracy}\")\n"
   ]
  }
 ],
 "metadata": {
  "application/vnd.databricks.v1+notebook": {
   "dashboards": [],
   "environmentMetadata": null,
   "language": "python",
   "notebookMetadata": {
    "pythonIndentUnit": 4
   },
   "notebookName": "eventhubs transactions",
   "widgets": {}
  }
 },
 "nbformat": 4,
 "nbformat_minor": 0
}
